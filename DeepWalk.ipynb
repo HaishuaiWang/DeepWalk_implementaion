{
 "cells": [
  {
   "cell_type": "code",
   "execution_count": 1,
   "metadata": {
    "collapsed": false
   },
   "outputs": [],
   "source": [
    "import networkx as nx\n",
    "import Graph\n",
    "import Classifier\n",
    "from gensim.models import Word2Vec\n"
   ]
  },
  {
   "cell_type": "code",
   "execution_count": 2,
   "metadata": {
    "collapsed": true
   },
   "outputs": [],
   "source": [
    "#Open and parse dataset\n",
    "G, subs_coo, subs = Graph.parse_mat_file('blogcatalog.mat')"
   ]
  },
  {
   "cell_type": "code",
   "execution_count": 3,
   "metadata": {
    "collapsed": false
   },
   "outputs": [],
   "source": [
    "#Build corpus\n",
    "corpus = Graph.build_walk_corpus(G=G, max_paths=80, path_len=40)"
   ]
  },
  {
   "cell_type": "code",
   "execution_count": 4,
   "metadata": {
    "collapsed": false
   },
   "outputs": [
    {
     "name": "stderr",
     "output_type": "stream",
     "text": [
      "/Users/ass6ash/anaconda/lib/python3.6/site-packages/ipykernel/__main__.py:5: DeprecationWarning: Call to deprecated `iter` (Attribute will be removed in 4.0.0, use self.epochs instead).\n"
     ]
    },
    {
     "data": {
      "text/plain": [
       "(40357636, 41248000)"
      ]
     },
     "execution_count": 4,
     "metadata": {},
     "output_type": "execute_result"
    }
   ],
   "source": [
    "#Train model\n",
    "#ToDO: try negative sampling (hs=0)\n",
    "model = Word2Vec(size = 128, window=10, sg=1, min_count=0, hs=1, compute_loss=True)\n",
    "model.build_vocab(corpus)\n",
    "model.train(corpus, total_examples=model.corpus_count, epochs=model.iter)"
   ]
  },
  {
   "cell_type": "code",
   "execution_count": 5,
   "metadata": {
    "collapsed": false
   },
   "outputs": [],
   "source": [
    "#Save w2v embeddings\n",
    "word_vec = model.wv\n",
    "word_vec.save_word2vec_format(binary=False,fname='word2vec.txt')"
   ]
  },
  {
   "cell_type": "code",
   "execution_count": 3,
   "metadata": {
    "collapsed": false
   },
   "outputs": [
    {
     "name": "stderr",
     "output_type": "stream",
     "text": [
      "/Users/ass6ash/anaconda/lib/python3.6/site-packages/sklearn/metrics/classification.py:1115: UndefinedMetricWarning: F-score is ill-defined and being set to 0.0 in labels with no true samples.\n",
      "  'recall', 'true', average, warn_for)\n",
      "/Users/ass6ash/anaconda/lib/python3.6/site-packages/sklearn/metrics/classification.py:1113: UndefinedMetricWarning: F-score is ill-defined and being set to 0.0 in labels with no predicted samples.\n",
      "  'precision', 'predicted', average, warn_for)\n",
      "/Users/ass6ash/anaconda/lib/python3.6/site-packages/sklearn/metrics/classification.py:1115: UndefinedMetricWarning: F-score is ill-defined and being set to 0.0 in labels with no true samples.\n",
      "  'recall', 'true', average, warn_for)\n"
     ]
    }
   ],
   "source": [
    "#Sometimes the model doesn't predict anything at all for some inputs. Its either the model's fault or that user has no subscriptions at\n",
    "#all, in that case the model is predicting properly but of course a zero output would raise exceptions during sklearn's\n",
    "#F1 score function.\n",
    "#Currently evaluating performance with OVR Logistic Regression.\n",
    "results = Classifier.evaluate(G, subs_coo)"
   ]
  },
  {
   "cell_type": "code",
   "execution_count": 4,
   "metadata": {
    "collapsed": false
   },
   "outputs": [
    {
     "name": "stdout",
     "output_type": "stream",
     "text": [
      "Classifier :  Logistic_classifier\n",
      "\tTraining size :  0.2\n",
      "\t\tMicro F1:  0.29341627786417834\n",
      "\t\tMacro F1:  0.21410135288977103\n",
      "\tTraining size :  0.5\n",
      "\t\tMicro F1:  0.29826749826749827\n",
      "\t\tMacro F1:  0.2343146163356684\n",
      "\tTraining size :  0.8\n",
      "\t\tMicro F1:  0.31282768262845156\n",
      "\t\tMacro F1:  0.2539729821864884\n",
      "\tTraining size :  0.9\n",
      "\t\tMicro F1:  0.3054571226080794\n",
      "\t\tMacro F1:  0.2393629968703233\n"
     ]
    }
   ],
   "source": [
    "trainsize = [0.2,0.5,0.8, 0.9]\n",
    "for (name,res) in results.items():\n",
    "    print(\"Classifier : \",name)\n",
    "    for (tr_size,res) in zip(trainsize,res):\n",
    "        print(\"\\tTraining size : \",tr_size)\n",
    "        print(\"\\t\\tMicro F1: \",res[0])\n",
    "        print(\"\\t\\tMacro F1: \",res[1])"
   ]
  },
  {
   "cell_type": "code",
   "execution_count": null,
   "metadata": {
    "collapsed": true
   },
   "outputs": [],
   "source": [
    "#Results don't quite match the ones in the paper. Might have to tune the parameters to get optimal performance."
   ]
  }
 ],
 "metadata": {
  "kernelspec": {
   "display_name": "Python 3",
   "language": "python",
   "name": "python3"
  },
  "language_info": {
   "codemirror_mode": {
    "name": "ipython",
    "version": 3
   },
   "file_extension": ".py",
   "mimetype": "text/x-python",
   "name": "python",
   "nbconvert_exporter": "python",
   "pygments_lexer": "ipython3",
   "version": "3.6.0"
  },
  "varInspector": {
   "cols": {
    "lenName": 16,
    "lenType": 16,
    "lenVar": 40
   },
   "kernels_config": {
    "python": {
     "delete_cmd_postfix": "",
     "delete_cmd_prefix": "del ",
     "library": "var_list.py",
     "varRefreshCmd": "print(var_dic_list())"
    },
    "r": {
     "delete_cmd_postfix": ") ",
     "delete_cmd_prefix": "rm(",
     "library": "var_list.r",
     "varRefreshCmd": "cat(var_dic_list()) "
    }
   },
   "types_to_exclude": [
    "module",
    "function",
    "builtin_function_or_method",
    "instance",
    "_Feature"
   ],
   "window_display": false
  }
 },
 "nbformat": 4,
 "nbformat_minor": 2
}
