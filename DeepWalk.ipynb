{
 "cells": [
  {
   "cell_type": "code",
   "execution_count": 1,
   "metadata": {
    "collapsed": false
   },
   "outputs": [],
   "source": [
    "import numpy as np\n",
    "import matplotlib.pyplot as plt\n",
    "import pandas as pd\n",
    "import Graph\n",
    "import networkx as nx\n",
    "from gensim.models import Word2Vec\n"
   ]
  },
  {
   "cell_type": "code",
   "execution_count": null,
   "metadata": {
    "collapsed": true
   },
   "outputs": [],
   "source": [
    "#Open and parse dataset\n",
    "G, subs = Graph.parse_mat_file('blogcatalog.mat')\n",
    "\n",
    "#Build corpus\n",
    "corpus = Graph.build_walk_corpus(G=G, max_paths=10, path_len=10)"
   ]
  },
  {
   "cell_type": "code",
   "execution_count": 6,
   "metadata": {
    "collapsed": false
   },
   "outputs": [
    {
     "name": "stderr",
     "output_type": "stream",
     "text": [
      "/Users/ass6ash/anaconda/lib/python3.6/site-packages/ipykernel/__main__.py:5: DeprecationWarning: Call to deprecated `iter` (Attribute will be removed in 4.0.0, use self.epochs instead).\n"
     ]
    },
    {
     "data": {
      "text/plain": [
       "(5042788, 5156000)"
      ]
     },
     "execution_count": 6,
     "metadata": {},
     "output_type": "execute_result"
    }
   ],
   "source": [
    "#Train model\n",
    "#ToDO: try negative sampling (hs=0)\n",
    "model = Word2Vec(size = 128, window=10, sg=1, min_count=0, hs=1, compute_loss=True)\n",
    "model.build_vocab(corpus)\n",
    "model.train(corpus, total_examples=model.corpus_count, epochs=model.iter)"
   ]
  },
  {
   "cell_type": "code",
   "execution_count": 8,
   "metadata": {
    "collapsed": false
   },
   "outputs": [
    {
     "data": {
      "text/plain": [
       "0.0"
      ]
     },
     "execution_count": 8,
     "metadata": {},
     "output_type": "execute_result"
    }
   ],
   "source": [
    "model.wv.save_word2vec_format('output.txt')\n",
    "model.get_latest_training_loss()"
   ]
  },
  {
   "cell_type": "code",
   "execution_count": 45,
   "metadata": {
    "collapsed": false
   },
   "outputs": [
    {
     "data": {
      "text/plain": [
       "array([-1.15599595e-01, -1.10804468e-01, -6.11950941e-02, -3.44287366e-01,\n",
       "        2.33741745e-01,  1.61873084e-02,  9.46258381e-02,  3.51321518e-01,\n",
       "        7.02706277e-02,  4.87664104e-01,  3.79737943e-01,  1.20614462e-01,\n",
       "       -1.21550798e-01, -9.89549458e-02,  2.77942941e-02,  1.32093132e-01,\n",
       "       -2.10792944e-01,  1.51443437e-01,  3.78319949e-01,  1.01653770e-01,\n",
       "        1.16808824e-02,  1.24325022e-01,  4.51783627e-01, -2.78390199e-01,\n",
       "       -1.38731793e-01,  4.48355734e-01,  5.47766805e-01,  2.67589778e-01,\n",
       "       -1.48226857e-01,  1.79325824e-03,  1.47451177e-01, -1.30617380e-01,\n",
       "       -4.22492065e-03, -9.57459435e-02,  1.20949008e-01,  1.85352832e-03,\n",
       "        9.42038968e-02, -1.17942929e-01,  3.83579791e-01,  3.01674544e-03,\n",
       "        3.01133811e-01,  7.54851177e-02,  1.08675256e-01,  9.63060558e-02,\n",
       "        4.43347991e-01, -3.50509018e-01,  3.20700943e-01, -8.34467635e-02,\n",
       "        1.74311891e-01,  5.42521119e-01,  3.42318788e-02, -2.14897431e-02,\n",
       "       -3.12246047e-02,  2.24874049e-01,  2.78654367e-01, -2.13211179e-01,\n",
       "        1.20681800e-01,  2.69118547e-02, -2.07550079e-01, -3.23621482e-01,\n",
       "       -5.98803582e-03,  2.84381360e-02, -3.64254452e-02, -1.38194449e-02,\n",
       "       -4.19005416e-02,  9.16934386e-02,  1.19840704e-01,  1.17140086e-02,\n",
       "       -8.34533125e-02,  1.04815006e-01,  3.40017676e-02, -1.58500478e-01,\n",
       "       -6.86088055e-02, -3.75027359e-01,  2.19558775e-01, -2.05848202e-01,\n",
       "       -9.30378884e-02,  2.79762745e-01, -1.63197950e-01,  4.64115217e-02,\n",
       "        9.60324630e-02, -1.93994015e-01,  3.58971447e-01, -3.16010892e-01,\n",
       "       -2.95790464e-01,  2.14039281e-01, -1.33636057e-01,  3.81375492e-01,\n",
       "       -1.57929212e-01, -7.94437677e-02,  2.86308616e-01, -5.24504781e-01,\n",
       "        1.64848164e-01,  2.27748364e-01, -1.31553710e-01,  1.58841684e-01,\n",
       "        3.06009620e-01, -3.21741819e-01, -6.50157481e-02,  7.32304007e-02,\n",
       "        7.42655899e-03,  7.07452297e-02,  2.43090779e-01, -2.54149269e-02,\n",
       "        5.05707972e-02,  3.24815392e-01, -4.36255150e-02,  2.22292259e-01,\n",
       "        4.30017011e-04, -3.63720238e-01,  2.12734461e-01, -3.27159129e-02,\n",
       "       -1.72332272e-01,  1.97260916e-01,  9.10843164e-02, -6.55496567e-02,\n",
       "       -1.48505718e-02, -6.05437495e-02, -1.21808954e-01, -3.91287982e-01,\n",
       "        3.45789671e-01,  1.79812655e-01, -8.39913115e-02,  2.10501894e-01,\n",
       "        4.70160902e-01, -2.28852071e-02,  1.71934977e-01, -1.07366212e-01],\n",
       "      dtype=float32)"
      ]
     },
     "execution_count": 45,
     "metadata": {},
     "output_type": "execute_result"
    }
   ],
   "source": [
    "word_vec = model.wv\n",
    "word_vec['0']"
   ]
  },
  {
   "cell_type": "code",
   "execution_count": null,
   "metadata": {
    "collapsed": true
   },
   "outputs": [],
   "source": [
    "#ToDO: MultiClass classification "
   ]
  }
 ],
 "metadata": {
  "kernelspec": {
   "display_name": "Python 3",
   "language": "python",
   "name": "python3"
  },
  "language_info": {
   "codemirror_mode": {
    "name": "ipython",
    "version": 3
   },
   "file_extension": ".py",
   "mimetype": "text/x-python",
   "name": "python",
   "nbconvert_exporter": "python",
   "pygments_lexer": "ipython3",
   "version": "3.6.0"
  },
  "varInspector": {
   "cols": {
    "lenName": 16,
    "lenType": 16,
    "lenVar": 40
   },
   "kernels_config": {
    "python": {
     "delete_cmd_postfix": "",
     "delete_cmd_prefix": "del ",
     "library": "var_list.py",
     "varRefreshCmd": "print(var_dic_list())"
    },
    "r": {
     "delete_cmd_postfix": ") ",
     "delete_cmd_prefix": "rm(",
     "library": "var_list.r",
     "varRefreshCmd": "cat(var_dic_list()) "
    }
   },
   "types_to_exclude": [
    "module",
    "function",
    "builtin_function_or_method",
    "instance",
    "_Feature"
   ],
   "window_display": false
  }
 },
 "nbformat": 4,
 "nbformat_minor": 2
}
