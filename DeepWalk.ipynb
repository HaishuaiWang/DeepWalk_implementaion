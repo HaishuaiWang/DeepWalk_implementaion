{
 "cells": [
  {
   "cell_type": "code",
   "execution_count": 1,
   "metadata": {
    "collapsed": false
   },
   "outputs": [],
   "source": [
    "import numpy as np\n",
    "import networkx as nx\n",
    "import Graph\n",
    "import Classifier\n",
    "import matplotlib.pyplot as plt\n",
    "from time import perf_counter\n",
    "from datetime import timedelta\n",
    "from gensim.models import Word2Vec\n",
    "from multiprocessing import cpu_count\n",
    "\n",
    "%matplotlib inline"
   ]
  },
  {
   "cell_type": "code",
   "execution_count": 2,
   "metadata": {
    "collapsed": false
   },
   "outputs": [
    {
     "name": "stdout",
     "output_type": "stream",
     "text": [
      "Name: blogcatalog.mat\n",
      "Type: Graph\n",
      "Number of nodes: 10312\n",
      "Number of edges: 333983\n",
      "Average degree:  64.7756\n",
      "---------------------------------------\n",
      "\n"
     ]
    }
   ],
   "source": [
    "#Open and parse dataset\n",
    "G, subs_coo = Graph.parse_mat_file('blogcatalog.mat')"
   ]
  },
  {
   "cell_type": "code",
   "execution_count": 3,
   "metadata": {
    "collapsed": false
   },
   "outputs": [
    {
     "name": "stdout",
     "output_type": "stream",
     "text": [
      "\t**Stage 1 : Generating random walks**\n",
      "Building walk corpus with parameters : max_paths per node =  30  and path_length =  40\n",
      "Completed\n",
      "\n",
      "Number of walks in the corpus =  309360\n",
      "Time Elapsed for building walk corpus -->  0:02:50.025881\n",
      "---------------------------------------\n",
      "\n"
     ]
    }
   ],
   "source": [
    "#Build corpus\n",
    "print(\"\\t**Stage 1 : Generating random walks**\")\n",
    "t1 = perf_counter()\n",
    "corpus = Graph.build_walk_corpus(G=G, max_paths=30, path_len=40)\n",
    "t2 = perf_counter()\n",
    "print(\"\\nNumber of walks in the corpus = \",len(corpus))\n",
    "print(\"Time Elapsed for building walk corpus --> \", timedelta(seconds=t2-t1))\n",
    "print(\"---------------------------------------\\n\")"
   ]
  },
  {
   "cell_type": "code",
   "execution_count": 5,
   "metadata": {
    "collapsed": false,
    "scrolled": true
   },
   "outputs": [
    {
     "name": "stdout",
     "output_type": "stream",
     "text": [
      "\t**Stage 2 : Generating Embeddings for nodes using Word2Vec**\n",
      "\n",
      "Word2Vec parameters : Dimensions = 128, window = 10, number of cpu cores assigned for training =  4\n"
     ]
    },
    {
     "name": "stderr",
     "output_type": "stream",
     "text": [
      "/Users/ass6ash/anaconda/lib/python3.6/site-packages/ipykernel/__main__.py:8: DeprecationWarning: Call to deprecated `iter` (Attribute will be removed in 4.0.0, use self.epochs instead).\n"
     ]
    },
    {
     "name": "stdout",
     "output_type": "stream",
     "text": [
      "Model training done. Word2Vec embeddings generated and saved in word2vec.txt\n",
      "Time Elapsed for generating embeddings -->  0:21:04.031389\n",
      "---------------------------------------\n",
      "\n"
     ]
    }
   ],
   "source": [
    "#Train model\n",
    "#ToDO: try negative sampling (hs=0)\n",
    "print(\"\\t**Stage 2 : Generating Embeddings for nodes using Word2Vec**\")\n",
    "print(\"\\nWord2Vec parameters : Dimensions = 128, window = 10, number of cpu cores assigned for training = \",cpu_count())\n",
    "t1 = perf_counter()\n",
    "model = Word2Vec(size = 128, window=10, sg=1, min_count=0, hs=1, compute_loss=True, workers=cpu_count())\n",
    "model.build_vocab(corpus)\n",
    "model.train(corpus, total_examples=model.corpus_count, epochs=model.iter)\n",
    "t2 = perf_counter()\n",
    "\n",
    "#Save w2v embeddings\n",
    "word_vec = model.wv\n",
    "word_vec.save_word2vec_format(binary=False,fname='word2vec.txt')\n",
    "\n",
    "print(\"Model training done. Word2Vec embeddings generated and saved in word2vec.txt\")\n",
    "print(\"Time Elapsed for generating embeddings --> \", timedelta(seconds=t2-t1))\n",
    "print(\"---------------------------------------\\n\")"
   ]
  },
  {
   "cell_type": "code",
   "execution_count": 3,
   "metadata": {
    "collapsed": false
   },
   "outputs": [
    {
     "name": "stdout",
     "output_type": "stream",
     "text": [
      "\t**Stage 3 : Evaluating classifier performance with the embeddings**\n"
     ]
    },
    {
     "name": "stderr",
     "output_type": "stream",
     "text": [
      "/Users/ass6ash/anaconda/lib/python3.6/site-packages/sklearn/metrics/classification.py:1113: UndefinedMetricWarning: F-score is ill-defined and being set to 0.0 in labels with no predicted samples.\n",
      "  'precision', 'predicted', average, warn_for)\n",
      "/Users/ass6ash/anaconda/lib/python3.6/site-packages/sklearn/metrics/classification.py:1113: UndefinedMetricWarning: F-score is ill-defined and being set to 0.0 in labels with no predicted samples.\n",
      "  'precision', 'predicted', average, warn_for)\n",
      "/Users/ass6ash/anaconda/lib/python3.6/site-packages/sklearn/metrics/classification.py:1113: UndefinedMetricWarning: F-score is ill-defined and being set to 0.0 in labels with no predicted samples.\n",
      "  'precision', 'predicted', average, warn_for)\n",
      "/Users/ass6ash/anaconda/lib/python3.6/site-packages/sklearn/metrics/classification.py:1115: UndefinedMetricWarning: F-score is ill-defined and being set to 0.0 in labels with no true samples.\n",
      "  'recall', 'true', average, warn_for)\n"
     ]
    },
    {
     "name": "stdout",
     "output_type": "stream",
     "text": [
      "\n",
      " Evaluation completed using the following:\n",
      "-->  Logistic_Regression\n",
      "Time Elapsed for evaluation -->  0:00:28.663396\n",
      "---------------------------------------\n",
      "\n"
     ]
    },
    {
     "name": "stderr",
     "output_type": "stream",
     "text": [
      "/Users/ass6ash/anaconda/lib/python3.6/site-packages/sklearn/metrics/classification.py:1113: UndefinedMetricWarning: F-score is ill-defined and being set to 0.0 in labels with no predicted samples.\n",
      "  'precision', 'predicted', average, warn_for)\n",
      "/Users/ass6ash/anaconda/lib/python3.6/site-packages/sklearn/metrics/classification.py:1115: UndefinedMetricWarning: F-score is ill-defined and being set to 0.0 in labels with no true samples.\n",
      "  'recall', 'true', average, warn_for)\n"
     ]
    }
   ],
   "source": [
    "#Sometimes the model doesn't predict anything at all for some inputs. Its either the model's fault or that user has no subscriptions at\n",
    "#all, in that case the model is predicting properly but of course a zero output would raise exceptions during sklearn's\n",
    "#F1 score function.\n",
    "#Currently evaluating performance with OVR Logistic Regression.\n",
    "print(\"\\t**Stage 3 : Evaluating classifier performance with the embeddings**\")\n",
    "\n",
    "t1 = perf_counter()\n",
    "results = Classifier.evaluate(G, subs_coo)\n",
    "t2 = perf_counter()\n",
    "\n",
    "print(\"\\n Evaluation completed using the following:\")\n",
    "for i in results.keys():\n",
    "    print(\"--> \",i)\n",
    "print(\"Time Elapsed for evaluation --> \", timedelta(seconds=t2-t1))\n",
    "print(\"---------------------------------------\\n\")\n"
   ]
  },
  {
   "cell_type": "code",
   "execution_count": 4,
   "metadata": {
    "collapsed": false
   },
   "outputs": [
    {
     "name": "stdout",
     "output_type": "stream",
     "text": [
      "Printing evaluation results : \n",
      "\n",
      "\n",
      "Classifier :  Logistic_Regression\n",
      "\tTraining size :  0.2\n",
      "\t\tMicro F1:  0.3776568170036288\n",
      "\t\tMacro F1:  0.2315693802086016\n",
      "\tTraining size :  0.5\n",
      "\t\tMicro F1:  0.4015246015246015\n",
      "\t\tMacro F1:  0.26826858261898523\n",
      "\tTraining size :  0.8\n",
      "\t\tMicro F1:  0.4201328206920657\n",
      "\t\tMacro F1:  0.29027617625378344\n",
      "\tTraining size :  0.9\n",
      "\t\tMicro F1:  0.4223954642097803\n",
      "\t\tMacro F1:  0.27375958228590364\n",
      "\t---------------------------------------\n",
      "\t Average Micro F1 :  0.40542742585751906\n",
      "\t Average Macro F1 :  0.2659684303418185\n"
     ]
    },
    {
     "data": {
      "image/png": "[encoded data removed]",
      "text/plain": [
       "<matplotlib.figure.Figure at 0x11b3b3b00>"
      ]
     },
     "metadata": {},
     "output_type": "display_data"
    },
    {
     "name": "stdout",
     "output_type": "stream",
     "text": [
      "====================================================\n",
      "\n"
     ]
    }
   ],
   "source": [
    "print(\"Printing evaluation results : \")\n",
    "trainsize = [0.2, 0.5, 0.8, 0.9]\n",
    "for (name,res) in results.items():\n",
    "    print(\"\\n\\nClassifier : \",name)\n",
    "    for (tr_size,res_) in zip(trainsize,res):\n",
    "        print(\"\\tTraining size : \",tr_size)\n",
    "        print(\"\\t\\tMicro F1: \",res_[0])\n",
    "        print(\"\\t\\tMacro F1: \",res_[1])\n",
    "    \n",
    "    avg = np.average(res,axis=0)\n",
    "    print(\"\\t---------------------------------------\")\n",
    "    print(\"\\t Average Micro F1 : \",avg[0])\n",
    "    print(\"\\t Average Macro F1 : \",avg[1])\n",
    "    Classifier.plot_graph(trainsize, res)\n",
    "    print(\"====================================================\\n\")"
   ]
  },
  {
   "cell_type": "code",
   "execution_count": null,
   "metadata": {
    "collapsed": false
   },
   "outputs": [],
   "source": [
    "#Results don't quite match the ones in the paper. Might have to tune the parameters to get optimal performance."
   ]
  }
 ],
 "metadata": {
  "kernelspec": {
   "display_name": "Python 3",
   "language": "python",
   "name": "python3"
  },
  "language_info": {
   "codemirror_mode": {
    "name": "ipython",
    "version": 3
   },
   "file_extension": ".py",
   "mimetype": "text/x-python",
   "name": "python",
   "nbconvert_exporter": "python",
   "pygments_lexer": "ipython3",
   "version": "3.6.0"
  },
  "varInspector": {
   "cols": {
    "lenName": 16,
    "lenType": 16,
    "lenVar": 40
   },
   "kernels_config": {
    "python": {
     "delete_cmd_postfix": "",
     "delete_cmd_prefix": "del ",
     "library": "var_list.py",
     "varRefreshCmd": "print(var_dic_list())"
    },
    "r": {
     "delete_cmd_postfix": ") ",
     "delete_cmd_prefix": "rm(",
     "library": "var_list.r",
     "varRefreshCmd": "cat(var_dic_list()) "
    }
   },
   "types_to_exclude": [
    "module",
    "function",
    "builtin_function_or_method",
    "instance",
    "_Feature"
   ],
   "window_display": false
  }
 },
 "nbformat": 4,
 "nbformat_minor": 2
}
